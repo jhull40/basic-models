{
 "cells": [
  {
   "cell_type": "code",
   "execution_count": 24,
   "id": "394a340c",
   "metadata": {},
   "outputs": [],
   "source": [
    "import pandas as pd\n",
    "import statsmodels.api as sm\n",
    "from sklearn.preprocessing import MinMaxScaler\n",
    "from sklearn.decomposition import PCA\n",
    "import numpy as np\n",
    "from sklearn.metrics import mean_squared_error"
   ]
  },
  {
   "cell_type": "code",
   "execution_count": 22,
   "id": "1205b5c3",
   "metadata": {},
   "outputs": [],
   "source": [
    "raw = pd.read_csv('data/korbb.csv')\n",
    "df = raw[[\n",
    " 'lvl_mlb', 'lvl_aaa', 'lvl_aa', 'lvl_higha', 'lvl_lowa',\n",
    "       'swing_percentage', 'chase_percentage', 'zone_swing_percentage',\n",
    "       'out_zone_contact_percentage', 'zone_contact_percentage',\n",
    "       'swiss_percentage', 'whiff_percentage', 'strikeout_percentage']].copy().rename(columns={'strikeout_percentage': 'target'})"
   ]
  },
  {
   "cell_type": "markdown",
   "id": "350d3cf3",
   "metadata": {},
   "source": [
    "# Linear"
   ]
  },
  {
   "cell_type": "code",
   "execution_count": 23,
   "id": "b481e76d",
   "metadata": {
    "scrolled": true
   },
   "outputs": [
    {
     "name": "stdout",
     "output_type": "stream",
     "text": [
      "Shape of df: (2827, 13)\n",
      "                            OLS Regression Results                            \n",
      "==============================================================================\n",
      "Dep. Variable:                 target   R-squared:                       0.852\n",
      "Model:                            OLS   Adj. R-squared:                  0.852\n",
      "Method:                 Least Squares   F-statistic:                     1479.\n",
      "Date:                Thu, 23 Jun 2022   Prob (F-statistic):               0.00\n",
      "Time:                        15:09:53   Log-Likelihood:                -6593.0\n",
      "No. Observations:                2827   AIC:                         1.321e+04\n",
      "Df Residuals:                    2815   BIC:                         1.328e+04\n",
      "Df Model:                          11                                         \n",
      "Covariance Type:            nonrobust                                         \n",
      "===============================================================================================\n",
      "                                  coef    std err          t      P>|t|      [0.025      0.975]\n",
      "-----------------------------------------------------------------------------------------------\n",
      "lvl_mlb                        12.3450      5.035      2.452      0.014       2.473      22.217\n",
      "lvl_aaa                        10.7883      5.048      2.137      0.033       0.891      20.686\n",
      "lvl_aa                         10.9915      5.045      2.179      0.029       1.100      20.883\n",
      "lvl_higha                      11.0480      5.046      2.189      0.029       1.153      20.943\n",
      "lvl_lowa                       10.9161      5.048      2.162      0.031       1.017      20.815\n",
      "swing_percentage                8.7988      3.506      2.509      0.012       1.923      15.674\n",
      "chase_percentage              -10.2878      2.510     -4.099      0.000     -15.209      -5.367\n",
      "zone_swing_percentage         -16.2461      1.553    -10.458      0.000     -19.292     -13.200\n",
      "out_zone_contact_percentage     0.9781      2.203      0.444      0.657      -3.341       5.297\n",
      "zone_contact_percentage         1.0672      3.257      0.328      0.743      -5.318       7.453\n",
      "swiss_percentage               14.3941      3.090      4.658      0.000       8.335      20.453\n",
      "whiff_percentage               34.9781      6.700      5.220      0.000      21.840      48.116\n",
      "==============================================================================\n",
      "Omnibus:                        3.410   Durbin-Watson:                   1.790\n",
      "Prob(Omnibus):                  0.182   Jarque-Bera (JB):                3.462\n",
      "Skew:                           0.080   Prob(JB):                        0.177\n",
      "Kurtosis:                       2.938   Cond. No.                         407.\n",
      "==============================================================================\n",
      "\n",
      "Notes:\n",
      "[1] Standard Errors assume that the covariance matrix of the errors is correctly specified.\n"
     ]
    }
   ],
   "source": [
    "df.replace([np.inf, -np.inf], 0, inplace=True)\n",
    "print(f'Shape of df: {df.shape}')\n",
    "\n",
    "\n",
    "X = df.drop('target', axis=1)\n",
    "#drop(['player_id', 'year', 'level', 'target'], axis=1)\n",
    "xcols = X.columns\n",
    "X = MinMaxScaler().fit_transform(X)\n",
    "X = pd.DataFrame(X)\n",
    "X.columns = list(xcols)\n",
    "\n",
    "y = df.target\n",
    "\n",
    "est = sm.OLS(endog=y, exog=X, missing='drop')\n",
    "fit_model = est.fit()\n",
    "# l1_model = est.fit_regularized(method='elastic_net', alpha=0.1, L1_wt=1.0, start_params=None)\n",
    "y_pred = fit_model.predict(X)\n",
    "print(fit_model.summary())"
   ]
  },
  {
   "cell_type": "code",
   "execution_count": 27,
   "id": "0e1b6418",
   "metadata": {},
   "outputs": [
    {
     "name": "stdout",
     "output_type": "stream",
     "text": [
      "validation rmse: 6.211706216691758\n"
     ]
    }
   ],
   "source": [
    "print('validation rmse: ' + str(mean_squared_error(y_pred, y, squared=True)))"
   ]
  },
  {
   "cell_type": "code",
   "execution_count": null,
   "id": "045451c3",
   "metadata": {},
   "outputs": [],
   "source": []
  },
  {
   "cell_type": "markdown",
   "id": "bdd31aad",
   "metadata": {},
   "source": [
    "# XGB"
   ]
  },
  {
   "cell_type": "code",
   "execution_count": 28,
   "id": "0ea6c759",
   "metadata": {},
   "outputs": [],
   "source": [
    "import pandas as pd\n",
    "import matplotlib.pyplot as plt\n",
    "from sklearn.preprocessing import MinMaxScaler\n",
    "from sklearn.linear_model import LinearRegression\n",
    "from sklearn.model_selection import train_test_split\n",
    "from xgboost import XGBRegressor\n",
    "from sklearn.model_selection import cross_val_score\n",
    "from sklearn.metrics import mean_squared_error\n",
    "from sklearn.model_selection import train_test_split, cross_validate, KFold, cross_val_predict, GridSearchCV, RandomizedSearchCV\n",
    "import datetime"
   ]
  },
  {
   "cell_type": "code",
   "execution_count": null,
   "id": "7b153590",
   "metadata": {},
   "outputs": [],
   "source": [
    "X = df.drop(['player_id', 'year', 'level', 'target'], axis=1)\n",
    "xcols = X.columns\n",
    "X = MinMaxScaler().fit_transform(X)\n",
    "X = pd.DataFrame(X)\n",
    "X.columns = list(xcols)\n",
    "\n",
    "y = df.target"
   ]
  },
  {
   "cell_type": "code",
   "execution_count": 29,
   "id": "13bb4d4e",
   "metadata": {},
   "outputs": [],
   "source": [
    "seed = 524\n",
    "test_size = 0.15\n",
    "X1, X_valid, y1, y_valid = train_test_split(X, y, test_size=test_size, random_state=seed)\n",
    "\n",
    "seed = 524\n",
    "test_size = 0.20\n",
    "X_train, X_test, y_train, y_test = train_test_split(X1, y1, test_size=test_size, random_state=seed)"
   ]
  },
  {
   "cell_type": "code",
   "execution_count": 30,
   "id": "53dd13e6",
   "metadata": {},
   "outputs": [],
   "source": [
    "params = {\n",
    "        'learning_rate': [0.3, 0.03, 0.003],\n",
    "        #'n_estimators': [50, 250, 500],\n",
    "       # 'min_child_weight': [2, 5, 8],\n",
    "        #'gamma': [0, 1.5, 5],\n",
    "       # 'subsample': [0.6, 1.0], \n",
    "        #'max_depth': [2, 5, 8]\n",
    "        }"
   ]
  },
  {
   "cell_type": "code",
   "execution_count": 39,
   "id": "69b0f41b",
   "metadata": {},
   "outputs": [],
   "source": [
    "xgb_model = XGBRegressor(booster='gbtree', objective='reg:squarederror')"
   ]
  },
  {
   "cell_type": "code",
   "execution_count": 40,
   "id": "4c63fef3",
   "metadata": {
    "collapsed": true
   },
   "outputs": [
    {
     "name": "stdout",
     "output_type": "stream",
     "text": [
      "2022-06-23 15:29:50.902486\n",
      "[0]\tvalidation_0-rmse:16.64333\n",
      "[1]\tvalidation_0-rmse:11.89060\n",
      "[2]\tvalidation_0-rmse:8.57127\n",
      "[3]\tvalidation_0-rmse:6.31816\n",
      "[4]\tvalidation_0-rmse:4.85645\n",
      "[5]\tvalidation_0-rmse:3.93220\n",
      "[6]\tvalidation_0-rmse:3.37105\n",
      "[7]\tvalidation_0-rmse:3.05210\n",
      "[8]\tvalidation_0-rmse:2.87103\n",
      "[9]\tvalidation_0-rmse:2.77247\n",
      "[10]\tvalidation_0-rmse:2.72779\n",
      "[11]\tvalidation_0-rmse:2.68943\n",
      "[12]\tvalidation_0-rmse:2.66057\n",
      "[13]\tvalidation_0-rmse:2.65326\n",
      "[14]\tvalidation_0-rmse:2.64155\n",
      "[15]\tvalidation_0-rmse:2.63896\n",
      "[16]\tvalidation_0-rmse:2.64475\n",
      "[17]\tvalidation_0-rmse:2.65109\n",
      "[18]\tvalidation_0-rmse:2.65861\n",
      "[19]\tvalidation_0-rmse:2.65244\n",
      "[20]\tvalidation_0-rmse:2.65014\n",
      "[21]\tvalidation_0-rmse:2.64484\n",
      "[22]\tvalidation_0-rmse:2.64794\n",
      "[23]\tvalidation_0-rmse:2.65347\n",
      "[24]\tvalidation_0-rmse:2.66495\n",
      "2022-06-23 15:29:51.753684\n"
     ]
    }
   ],
   "source": [
    "# this cell takes a long time\n",
    "print(datetime.datetime.now())\n",
    "kf = KFold(n_splits=3, shuffle = True, random_state = 524)\n",
    "\n",
    "gridcv = GridSearchCV(estimator=xgb_model, \n",
    "                      param_grid=params, \n",
    "                      scoring='neg_root_mean_squared_error', \n",
    "                      n_jobs=4, \n",
    "                      cv=kf.split(X_train,y_train),  \n",
    "                      #verbose=3, \n",
    "                     return_train_score=True)\n",
    "\n",
    "gridcv.fit(X_train, y_train, early_stopping_rounds=10, verbose=1,\n",
    "        eval_set=[(X_test, y_test)])\n",
    "print(datetime.datetime.now())"
   ]
  },
  {
   "cell_type": "code",
   "execution_count": 41,
   "id": "2ad760c0",
   "metadata": {},
   "outputs": [
    {
     "name": "stdout",
     "output_type": "stream",
     "text": [
      "\n",
      " Best estimator:\n",
      "XGBRegressor(base_score=0.5, booster='gbtree', callbacks=None,\n",
      "             colsample_bylevel=1, colsample_bynode=1, colsample_bytree=1,\n",
      "             early_stopping_rounds=None, enable_categorical=False,\n",
      "             eval_metric=None, gamma=0, gpu_id=-1, grow_policy='depthwise',\n",
      "             importance_type=None, interaction_constraints='',\n",
      "             learning_rate=0.3, max_bin=256, max_cat_to_onehot=4,\n",
      "             max_delta_step=0, max_depth=6, max_leaves=0, min_child_weight=1,\n",
      "             missing=nan, monotone_constraints='()', n_estimators=100, n_jobs=0,\n",
      "             num_parallel_tree=1, predictor='auto', random_state=0, reg_alpha=0,\n",
      "             reg_lambda=1, ...)\n",
      "\n",
      " Best score:\n",
      "-2.7942090094166487\n",
      "\n",
      " Best parameters:\n",
      "{'learning_rate': 0.3}\n"
     ]
    }
   ],
   "source": [
    "#print('\\n All results:')\n",
    "#print(gridcv.cv_results_)\n",
    "print('\\n Best estimator:')\n",
    "print(gridcv.best_estimator_)\n",
    "print('\\n Best score:')\n",
    "print(gridcv.best_score_)\n",
    "print('\\n Best parameters:')\n",
    "print(gridcv.best_params_)\n",
    "results = pd.DataFrame(gridcv.cv_results_)\n",
    "#results.to_csv('../predictions/xgb-grid-search-results-3fold.csv', index=False)\n",
    "\n"
   ]
  },
  {
   "cell_type": "code",
   "execution_count": 42,
   "id": "bca82453",
   "metadata": {},
   "outputs": [
    {
     "name": "stdout",
     "output_type": "stream",
     "text": [
      "validation rmse: 7.404194692513419\n",
      "test rmse: 6.964131811299392\n",
      "train rmse: 3.42739642912801\n"
     ]
    }
   ],
   "source": [
    "\n",
    "y_preds = gridcv.best_estimator_.predict(X_valid)\n",
    "print('validation rmse: ' + str(mean_squared_error(y_preds, y_valid, squared=True)))\n",
    "\n",
    "\n",
    "y_preds = gridcv.best_estimator_.predict(X_test)\n",
    "print('test rmse: ' + str(mean_squared_error(y_preds, y_test, squared=True)))\n",
    "\n",
    "y_preds = gridcv.best_estimator_.predict(X_train)\n",
    "print('train rmse: ' + str(mean_squared_error(y_preds, y_train, squared=True)))"
   ]
  },
  {
   "cell_type": "code",
   "execution_count": null,
   "id": "901aa88a",
   "metadata": {},
   "outputs": [],
   "source": []
  },
  {
   "cell_type": "code",
   "execution_count": null,
   "id": "58d49046",
   "metadata": {},
   "outputs": [],
   "source": []
  },
  {
   "cell_type": "code",
   "execution_count": null,
   "id": "54390d51",
   "metadata": {},
   "outputs": [],
   "source": []
  },
  {
   "cell_type": "markdown",
   "id": "00291669",
   "metadata": {},
   "source": [
    "# Small NN"
   ]
  },
  {
   "cell_type": "code",
   "execution_count": 3,
   "id": "c19fd888",
   "metadata": {},
   "outputs": [],
   "source": [
    "import matplotlib.pyplot as plt\n",
    "import numpy as np\n",
    "import pandas as pd\n",
    "import seaborn as sns\n",
    "\n",
    "# Make NumPy printouts easier to read.\n",
    "np.set_printoptions(precision=3, suppress=True)\n",
    "\n",
    "import tensorflow as tf\n",
    "\n",
    "from tensorflow import keras\n",
    "from tensorflow.keras import layers\n",
    "from tensorflow.keras import regularizers\n",
    "\n",
    "import tensorflow_docs as tfdocs\n",
    "import tensorflow_docs.modeling\n",
    "import tensorflow_docs.plots"
   ]
  },
  {
   "cell_type": "code",
   "execution_count": 4,
   "id": "799e6e38",
   "metadata": {},
   "outputs": [],
   "source": [
    "def plot_loss(history):\n",
    "    plt.plot(history.history['loss'], label='loss')\n",
    "    plt.plot(history.history['val_loss'], label='val_loss')\n",
    "    plt.ylim([0, 10])\n",
    "    plt.xlabel('Epoch')\n",
    "    plt.ylabel('Error')\n",
    "    plt.legend()\n",
    "    plt.grid(True)\n"
   ]
  },
  {
   "cell_type": "code",
   "execution_count": 5,
   "id": "dce9500e",
   "metadata": {},
   "outputs": [],
   "source": [
    "raw = pd.read_csv('data/korbb.csv')\n",
    "dataset = raw[[\n",
    " 'lvl_mlb', 'lvl_aaa', 'lvl_aa', 'lvl_higha', 'lvl_lowa',\n",
    "       'swing_percentage', 'chase_percentage', 'zone_swing_percentage',\n",
    "       'out_zone_contact_percentage', 'zone_contact_percentage',\n",
    "       'swiss_percentage', 'whiff_percentage', 'strikeout_percentage']].copy()"
   ]
  },
  {
   "cell_type": "code",
   "execution_count": 6,
   "id": "d1bcccd1",
   "metadata": {},
   "outputs": [],
   "source": [
    "train_dataset = dataset.sample(frac=0.8, random_state=0)\n",
    "test_dataset = dataset.drop(train_dataset.index)"
   ]
  },
  {
   "cell_type": "code",
   "execution_count": 7,
   "id": "f3ff37ca",
   "metadata": {},
   "outputs": [],
   "source": [
    "train_features = train_dataset.copy()\n",
    "test_features = test_dataset.copy()\n",
    "\n",
    "train_labels = train_features.pop('strikeout_percentage')\n",
    "test_labels = test_features.pop('strikeout_percentage')"
   ]
  },
  {
   "cell_type": "code",
   "execution_count": 9,
   "id": "af35bc60",
   "metadata": {},
   "outputs": [],
   "source": [
    "N_VALIDATION = round(0.2*dataset.shape[0])\n",
    "N_TRAIN = round(0.8*dataset.shape[0])\n",
    "BUFFER_SIZE = int(1e4)\n",
    "BATCH_SIZE = 500\n",
    "STEPS_PER_EPOCH = N_TRAIN//BATCH_SIZE"
   ]
  },
  {
   "cell_type": "code",
   "execution_count": 10,
   "id": "c9a2bc22",
   "metadata": {},
   "outputs": [],
   "source": [
    "lr_schedule = tf.keras.optimizers.schedules.InverseTimeDecay(\n",
    "  0.001,\n",
    "  decay_steps=STEPS_PER_EPOCH*1000,\n",
    "  decay_rate=1,\n",
    "  staircase=False)\n",
    "\n",
    "def get_optimizer():\n",
    "    return tf.keras.optimizers.Adam(lr_schedule)"
   ]
  },
  {
   "cell_type": "code",
   "execution_count": 11,
   "id": "d6d0d7e7",
   "metadata": {},
   "outputs": [],
   "source": [
    "def get_callbacks(name):\n",
    "    return [\n",
    "    tfdocs.modeling.EpochDots(),\n",
    "    tf.keras.callbacks.EarlyStopping(monitor='val_loss', patience=200),\n",
    "    tf.keras.callbacks.TensorBoard(name),\n",
    "    ]"
   ]
  },
  {
   "cell_type": "code",
   "execution_count": 16,
   "id": "b8ceab0b",
   "metadata": {},
   "outputs": [],
   "source": [
    "def compile_and_fit(model, name, optimizer=None, max_epochs=1000):\n",
    "    if optimizer is None:\n",
    "        optimizer = get_optimizer()\n",
    "\n",
    "    model.compile(optimizer=optimizer,\n",
    "                loss='mean_squared_error')\n",
    "\n",
    "    model.summary()\n",
    "\n",
    "    history = model.fit(\n",
    "    train_features,\n",
    "        train_labels,\n",
    "    steps_per_epoch = STEPS_PER_EPOCH,\n",
    "    epochs=max_epochs,\n",
    "       # validation_split=0.2,\n",
    "    validation_data=(test_features, test_labels),\n",
    "    callbacks=get_callbacks(name),\n",
    "    verbose=0)\n",
    "    \n",
    "    \n",
    "    return history"
   ]
  },
  {
   "cell_type": "code",
   "execution_count": 17,
   "id": "b4ff2976",
   "metadata": {},
   "outputs": [],
   "source": [
    "N_FEATURES = 12\n",
    "tiny_model = tf.keras.Sequential([\n",
    "    layers.Dense(16, activation='relu', input_shape=(N_FEATURES,), kernel_regularizer=regularizers.l2(0.001)),\n",
    "    #layers.Dropout(0.5),\n",
    "    layers.Dense(1)\n",
    "])"
   ]
  },
  {
   "cell_type": "code",
   "execution_count": 18,
   "id": "7e1511d1",
   "metadata": {},
   "outputs": [],
   "source": [
    "histories = {}"
   ]
  },
  {
   "cell_type": "code",
   "execution_count": 19,
   "id": "86df15ba",
   "metadata": {},
   "outputs": [
    {
     "name": "stdout",
     "output_type": "stream",
     "text": [
      "Model: \"sequential_1\"\n",
      "_________________________________________________________________\n",
      " Layer (type)                Output Shape              Param #   \n",
      "=================================================================\n",
      " dense_2 (Dense)             (None, 16)                208       \n",
      "                                                                 \n",
      " dense_3 (Dense)             (None, 1)                 17        \n",
      "                                                                 \n",
      "=================================================================\n",
      "Total params: 225\n",
      "Trainable params: 225\n",
      "Non-trainable params: 0\n",
      "_________________________________________________________________\n",
      "\n",
      "Epoch: 0, loss:589.3600,  val_loss:538.7766,  \n",
      "....................................................................................................\n",
      "Epoch: 100, loss:27.5272,  val_loss:27.0654,  \n",
      "....................................................................................................\n",
      "Epoch: 200, loss:17.8677,  val_loss:16.9818,  \n",
      "....................................................................................................\n",
      "Epoch: 300, loss:7.7621,  val_loss:7.4793,  \n",
      "....................................................................................................\n",
      "Epoch: 400, loss:6.5177,  val_loss:6.5030,  \n",
      "....................................................................................................\n",
      "Epoch: 500, loss:6.4310,  val_loss:6.3943,  \n",
      "....................................................................................................\n",
      "Epoch: 600, loss:6.4130,  val_loss:6.3635,  \n",
      "....................................................................................................\n",
      "Epoch: 700, loss:6.3974,  val_loss:6.3670,  \n",
      "....................................................................................................\n",
      "Epoch: 800, loss:6.3915,  val_loss:6.3292,  \n",
      "....................................................................................................\n",
      "Epoch: 900, loss:6.4053,  val_loss:6.3736,  \n",
      "...................................................................................................."
     ]
    }
   ],
   "source": [
    "histories['Tiny'] = compile_and_fit(tiny_model, 'sizes/Tiny')"
   ]
  },
  {
   "cell_type": "code",
   "execution_count": null,
   "id": "11aaa79a",
   "metadata": {},
   "outputs": [],
   "source": []
  },
  {
   "cell_type": "code",
   "execution_count": null,
   "id": "31f24b1a",
   "metadata": {},
   "outputs": [],
   "source": []
  },
  {
   "cell_type": "code",
   "execution_count": null,
   "id": "efbcb0cf",
   "metadata": {},
   "outputs": [],
   "source": []
  },
  {
   "cell_type": "code",
   "execution_count": null,
   "id": "a10d3c94",
   "metadata": {},
   "outputs": [],
   "source": []
  }
 ],
 "metadata": {
  "kernelspec": {
   "display_name": "Python 3 (ipykernel)",
   "language": "python",
   "name": "python3"
  },
  "language_info": {
   "codemirror_mode": {
    "name": "ipython",
    "version": 3
   },
   "file_extension": ".py",
   "mimetype": "text/x-python",
   "name": "python",
   "nbconvert_exporter": "python",
   "pygments_lexer": "ipython3",
   "version": "3.8.10"
  }
 },
 "nbformat": 4,
 "nbformat_minor": 5
}
